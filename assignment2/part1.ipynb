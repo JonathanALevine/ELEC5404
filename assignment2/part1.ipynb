{
 "cells": [
  {
   "cell_type": "code",
   "execution_count": 1,
   "metadata": {},
   "outputs": [],
   "source": [
    "#!/usr/bin/env python3\n",
    "import torch\n",
    "from torch import nn\n",
    "import numpy as np"
   ]
  },
  {
   "cell_type": "code",
   "execution_count": 2,
   "metadata": {},
   "outputs": [
    {
     "data": {
      "text/plain": [
       "(tensor([1.2689], grad_fn=<AddBackward0>),\n",
       " tensor([2.7729], grad_fn=<AddBackward0>),\n",
       " tensor([1.0201], grad_fn=<MulBackward0>))"
      ]
     },
     "execution_count": 2,
     "metadata": {},
     "output_type": "execute_result"
    }
   ],
   "source": [
    "class MyNetwork(nn.Module):\n",
    "    def __init__(self):\n",
    "        super().__init__()\n",
    "        self.hidden = nn.Linear(1, 2)\n",
    "        self.output = nn.Linear(2, 1)\n",
    "\n",
    "        self.sigmoid = nn.Sigmoid()\n",
    "\n",
    "    def forward(self, x):\n",
    "        x = self.hidden(x)\n",
    "        x = self.sigmoid(x)\n",
    "        x = self.output(x)\n",
    "        return x\n",
    "\n",
    "x = torch.tensor([[0], [1]], dtype=torch.float32)\n",
    "d = torch.tensor([[2], [4]], dtype=torch.float32)\n",
    "\n",
    "sigmoid = nn.Sigmoid()\n",
    "\n",
    "net = MyNetwork()\n",
    "\n",
    "v0 = 0\n",
    "v1 = 4\n",
    "v2 = -1.0\n",
    "\n",
    "w11 = 2.0\n",
    "w10 = 0\n",
    "\n",
    "w21 = 0.1\n",
    "w20 = 1.0\n",
    "\n",
    "# learning rate\n",
    "eta = 0.1\n",
    "\n",
    "w = torch.tensor([v0, v1, v2, w10, w20, w11, w21])\n",
    "\n",
    "net.hidden.weight.data = torch.tensor([[w[5]], [w[6]]])\n",
    "net.hidden.bias.data = torch.tensor([w[3], w[4]])\n",
    "\n",
    "net.output.weight.data = torch.tensor([[w[1], w[2]]])\n",
    "net.output.bias.data = torch.tensor([w[0]])\n",
    "\n",
    "# Calculate the error\n",
    "sum = 0\n",
    "for i in range(x.size()[0]):\n",
    "    sum = sum + pow((net(x[i]) - d[i]), 2)\n",
    "E = 0.5*sum\n",
    "\n",
    "net(x[0]), net(x[1]), E"
   ]
  },
  {
   "cell_type": "code",
   "execution_count": 3,
   "metadata": {},
   "outputs": [
    {
     "name": "stdout",
     "output_type": "stream",
     "text": [
      "tensor([1.7788]) tensor([3.2868]) tensor([-1.9581, -1.4463, -1.4551, -1.2464,  0.3737, -0.5153,  0.2299]) tensor([ 0.1958,  4.1446, -0.8545,  0.1246,  0.9626,  2.0515,  0.0770])\n"
     ]
    }
   ],
   "source": [
    "epochs = 1\n",
    "\n",
    "for i in range(epochs):    \n",
    "    # Calculate the gradients\n",
    "    dE_dv1 = 0;\n",
    "    sum = 0;\n",
    "    for i in range(0, 2):\n",
    "        z1 = sigmoid(x[i]*w11 + w10)\n",
    "        sum = sum + (net(x[i]) - d[i])*z1\n",
    "    dE_dv1 = sum\n",
    "\n",
    "    dE_dv2 = 0;\n",
    "    sum = 0;\n",
    "    for i in range(0, 2):\n",
    "        z2 = sigmoid(x[i]*w21 + w20)\n",
    "        sum = sum + (net(x[i]) - d[i])*z2\n",
    "    dE_dv2 = sum\n",
    "\n",
    "    dE_dv0 = 0;\n",
    "    sum = 0;\n",
    "    for i in range(0, 2):\n",
    "        sum = sum + (net(x[i]) - d[i])\n",
    "    dE_dv0 = sum\n",
    "\n",
    "    dE_dw11 = 0;\n",
    "    sum = 0;\n",
    "    for i in range(0, 2):\n",
    "        sum = sum + (net(x[i]) - d[i])*v1*x[i]*sigmoid(x[i]*w11 + w10)*(1-sigmoid(x[i]*w11 + w10))\n",
    "    dE_dw11 = sum\n",
    "\n",
    "    dE_dw10 = 0;\n",
    "    sum = 0;\n",
    "    for i in range(0, 2):\n",
    "        sum = sum + (net(x[i]) - d[i])*v1*sigmoid(x[i]*w11 + w10)*(1-sigmoid(x[i]*w11 + w10))\n",
    "    dE_dw10 = sum\n",
    "\n",
    "    dE_dw21 = 0;\n",
    "    sum = 0;\n",
    "    for i in range(0, 2):\n",
    "        sum = sum + (net(x[i]) - d[i])*v2*x[i]*sigmoid(x[i]*w21 + w20)*(1-sigmoid(x[i]*w21 + w20))\n",
    "    dE_dw21 = sum\n",
    "\n",
    "    dE_dw20 = 0;\n",
    "    sum = 0;\n",
    "    for i in range(0, 2):\n",
    "        sum = sum + (net(x[i]) - d[i])*v2*sigmoid(x[i]*w21 + w20)*(1-sigmoid(x[i]*w21 + w20))\n",
    "    dE_dw20 = sum\n",
    "\n",
    "    # Get the Gradient vector\n",
    "    dE_dw = torch.tensor([dE_dv0, dE_dv1, dE_dv2, dE_dw10, dE_dw20, dE_dw11, dE_dw21])\n",
    "\n",
    "    # Update the weights\n",
    "    w = w - eta*dE_dw\n",
    "\n",
    "    # Update the network\n",
    "    net.hidden.weight.data = torch.tensor([[w[5]], [w[6]]])\n",
    "    net.hidden.bias.data = torch.tensor([w[3], w[4]])\n",
    "\n",
    "    net.output.weight.data = torch.tensor([[w[1], w[2]]])\n",
    "    net.output.bias.data = torch.tensor([w[0]])\n",
    "\n",
    "    print(net(x[0]).data, net(x[1]).data, dE_dw, w)"
   ]
  },
  {
   "cell_type": "code",
   "execution_count": null,
   "metadata": {},
   "outputs": [],
   "source": []
  }
 ],
 "metadata": {
  "kernelspec": {
   "display_name": "Python 3.9.12 ('base')",
   "language": "python",
   "name": "python3"
  },
  "language_info": {
   "codemirror_mode": {
    "name": "ipython",
    "version": 3
   },
   "file_extension": ".py",
   "mimetype": "text/x-python",
   "name": "python",
   "nbconvert_exporter": "python",
   "pygments_lexer": "ipython3",
   "version": "3.9.12"
  },
  "orig_nbformat": 4,
  "vscode": {
   "interpreter": {
    "hash": "94c8c8b4917a1e868ddd043fff4bf444b218bb52a8ce2e7cb873768f991264a0"
   }
  }
 },
 "nbformat": 4,
 "nbformat_minor": 2
}
